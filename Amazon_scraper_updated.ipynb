{
 "cells": [
  {
   "cell_type": "code",
   "execution_count": 1,
   "id": "31c70aef",
   "metadata": {},
   "outputs": [
    {
     "name": "stdout",
     "output_type": "stream",
     "text": [
      "<Response [200]>\n",
      "https://www.amazon.in/s?i=beauty&rh=n%3A1374407031&fs=true&page=1\n",
      "<Response [200]>\n",
      "https://www.amazon.in/s?i=beauty&rh=n%3A1374407031&fs=true&page=2\n"
     ]
    }
   ],
   "source": [
    "import requests\n",
    "from bs4 import BeautifulSoup\n",
    "import pandas as pd\n",
    "import re\n",
    "\n",
    "\n",
    "page = 3\n",
    "n = '3A1374407031'\n",
    "title = 'beauty'\n",
    "\n",
    "\n",
    "\n",
    "def d_data(page):\n",
    "    HEADERS = ({'User-Agent':'Mozilla/5.0 (X11; Linux x86_64) AppleWebKit/537.36 (KHTML, like Gecko) Chrome/44.0.2403.157 Safari/537.36',\n",
    "            'Accept-Language': 'en-US, en;q=0.5'})\n",
    "    \n",
    "    r = requests.get(f\"https://www.amazon.in/s?i={title}&rh=n%{n}&fs=true&page={page}\", headers=HEADERS)\n",
    "    print(r)\n",
    "    print(f\"https://www.amazon.in/s?i={title}&rh=n%{n}&fs=true&page={page}\")\n",
    "\n",
    "    content = r.content\n",
    "    s = BeautifulSoup(content,'html5lib')\n",
    "    \n",
    "    alls=[]\n",
    "    \n",
    "    for d in s.find_all(attrs={'class':'a-section a-spacing-medium'}):\n",
    "        name = d.find('span', attrs={\"class\":\"a-size-base-plus a-color-base a-text-normal\"}) \n",
    "        price = d.find('span', attrs={\"class\":\"a-offscreen\"})\n",
    "        img = d.find('img',attrs={'class':'s-image'})\n",
    "        \n",
    "        all1 = []\n",
    "        \n",
    "        if name is not None:\n",
    "            all1.append(name.text)\n",
    "        else:\n",
    "            all1.append('Unknown')\n",
    "            \n",
    "        if price is not None:\n",
    "            all1.append(price.text)\n",
    "        else:\n",
    "            all1.append('0')\n",
    "            \n",
    "        if img is not None:\n",
    "            all1.append(img['src'])\n",
    "        else:\n",
    "            all1.append('No image')\n",
    "            \n",
    "        alls.append(all1)\n",
    "        \n",
    "    return alls\n",
    "\n",
    "results = []\n",
    "\n",
    "for i in range(1,page):\n",
    "    results.append(d_data(i))\n",
    "\n",
    "flatten = lambda l : [item for sublist in l for item in sublist]\n",
    "\n",
    "df = pd.DataFrame(flatten(results), columns = ['Product Name','Price','Image'])\n",
    "df.to_csv(f'amazon_products_newzone2_{title}.csv', mode='a', index=\"false\", encoding = 'utf-8')"
   ]
  },
  {
   "cell_type": "code",
   "execution_count": null,
   "id": "ae33a286",
   "metadata": {},
   "outputs": [],
   "source": []
  }
 ],
 "metadata": {
  "kernelspec": {
   "display_name": "Python 3 (ipykernel)",
   "language": "python",
   "name": "python3"
  },
  "language_info": {
   "codemirror_mode": {
    "name": "ipython",
    "version": 3
   },
   "file_extension": ".py",
   "mimetype": "text/x-python",
   "name": "python",
   "nbconvert_exporter": "python",
   "pygments_lexer": "ipython3",
   "version": "3.8.11"
  }
 },
 "nbformat": 4,
 "nbformat_minor": 5
}
